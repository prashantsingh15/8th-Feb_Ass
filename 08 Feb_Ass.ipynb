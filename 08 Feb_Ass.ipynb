{
 "cells": [
  {
   "cell_type": "markdown",
   "id": "87de7118",
   "metadata": {},
   "source": [
    "- Q1 .  What is Abstraction in OOps ? Explain with an example . \n",
    "\n",
    "\n",
    "-- Abstraction is a fundamental concept in object-oriented programming (OOP) that allows us to model real-world entities by emphasizing their essential characteristics and hiding the unnecessary details. \n"
   ]
  },
  {
   "cell_type": "code",
   "execution_count": 1,
   "id": "a76d8258",
   "metadata": {},
   "outputs": [],
   "source": [
    "from abc import ABC, abstractmethod\n",
    "\n",
    "class Animal(ABC):\n",
    "    def __init__(self, name):\n",
    "        self.name = name\n",
    "        \n",
    "    @abstractmethod\n",
    "    \n",
    "    def make_sound(self):\n",
    "        pass\n",
    "    def eat(self):\n",
    "        print(self.name + \" is eating.\")\n",
    "        \n",
    "class Lion(Animal):\n",
    "    def make_sound(self):\n",
    "        print(\"Roar !\")\n",
    "        \n",
    "class Elephant(Animal):\n",
    "    def make_sound(self):\n",
    "        print(\"Trumpet\")"
   ]
  },
  {
   "cell_type": "code",
   "execution_count": 2,
   "id": "068fb6bc",
   "metadata": {},
   "outputs": [
    {
     "name": "stdout",
     "output_type": "stream",
     "text": [
      "Roar !\n",
      "Simba is eating.\n",
      "Trumpet\n",
      "Dumbo is eating.\n"
     ]
    }
   ],
   "source": [
    "lion = Lion(\"Simba\")\n",
    "lion.make_sound()\n",
    "lion.eat()\n",
    "\n",
    "elephant = Elephant(\"Dumbo\")\n",
    "elephant.make_sound()\n",
    "elephant.eat()"
   ]
  },
  {
   "cell_type": "markdown",
   "id": "dbb3bf55",
   "metadata": {},
   "source": [
    "- Q2. Differentiate between Abstraction and Encapsulation. Explain with an example."
   ]
  },
  {
   "cell_type": "markdown",
   "id": "f93da1f2",
   "metadata": {},
   "source": [
    "-  Abstraction is a fundamental concept in object-oriented programming (OOP) that allows us to model real-world entities by emphasizing their essential characteristics and hiding the unnecessary details..\n",
    "\n",
    "\n",
    "- Encapsulation is a mechanism that bundles data and methods together within a class and controls their access by providing access modifiers (e.g., public, private, protected). It allows us to hide the internal implementation details of an object and provide a public interface to interact with the object. Encapsulation helps achieve data hiding and protects the integrity of the object by preventing direct access to its internal state."
   ]
  },
  {
   "cell_type": "code",
   "execution_count": 3,
   "id": "c33c189c",
   "metadata": {},
   "outputs": [],
   "source": [
    "## Abstraction\n",
    "\n",
    "from abc import ABC, abstractmethod\n",
    "\n",
    "class Shape(ABC):\n",
    "    @abstractmethod\n",
    "    def calculate_area(self):\n",
    "        pass\n",
    "    \n",
    "    @abstractmethod\n",
    "    def calculate_perimeter(self):\n",
    "        pass\n",
    "\n",
    "class Circle(Shape):\n",
    "    def __init__(self, radius):\n",
    "        self.radius = radius\n",
    "    \n",
    "    def calculate_area(self):\n",
    "        return 3.14 * self.radius**2\n",
    "    \n",
    "    def calculate_perimeter(self):\n",
    "        return 2 * 3.14 * self.radius\n",
    "\n",
    "class Rectangle(Shape):\n",
    "    def __init__(self, length, width):\n",
    "        self.length = length\n",
    "        self.width = width\n",
    "    \n",
    "    def calculate_area(self):\n",
    "        return self.length * self.width\n",
    "    \n",
    "    def calculate_perimeter(self):\n",
    "        return 2 * (self.length + self.width)\n"
   ]
  },
  {
   "cell_type": "code",
   "execution_count": 7,
   "id": "ad0edc25",
   "metadata": {},
   "outputs": [
    {
     "name": "stdout",
     "output_type": "stream",
     "text": [
      "Toyota\n",
      "Camry\n",
      "2022\n"
     ]
    }
   ],
   "source": [
    "class Car:\n",
    "    def __init__(self, make, model, year):\n",
    "        self.make = make\n",
    "        self.model = model\n",
    "        self.year = year\n",
    "    \n",
    "    def get_make(self):\n",
    "        return self.make\n",
    "    \n",
    "    def get_model(self):\n",
    "        return self.model\n",
    "    \n",
    "    def get_year(self):\n",
    "        return self.year\n",
    "\n",
    "my_car = Car(\"Toyota\", \"Camry\", 2022)\n",
    "\n",
    "print(my_car.get_make())  # Output: Toyota\n",
    "print(my_car.get_model())  # Output: Camry\n",
    "print(my_car.get_year())  # Output: 2022\n"
   ]
  },
  {
   "cell_type": "code",
   "execution_count": 8,
   "id": "80680c51",
   "metadata": {},
   "outputs": [
    {
     "name": "stdout",
     "output_type": "stream",
     "text": [
      "78.5\n",
      "31.400000000000002\n",
      "24\n",
      "20\n"
     ]
    }
   ],
   "source": [
    "circle = Circle(5)\n",
    "print(circle.calculate_area())       # Output: 78.5\n",
    "print(circle.calculate_perimeter())  # Output: 31.4\n",
    "\n",
    "rectangle = Rectangle(4, 6)\n",
    "print(rectangle.calculate_area())       # Output: 24\n",
    "print(rectangle.calculate_perimeter())  # Output: 20\n",
    "\n"
   ]
  },
  {
   "cell_type": "markdown",
   "id": "3f0749ea",
   "metadata": {},
   "source": [
    "- Q3. What is abc module in python? Why is it used?"
   ]
  },
  {
   "cell_type": "markdown",
   "id": "e0c8ed8d",
   "metadata": {},
   "source": [
    "- The abc module in Python stands for \"Abstract Base Classes.\" It provides a way to define abstract classes and abstract methods in Python.\n",
    "\n",
    "- An abstract class is a class that cannot be instantiated directly but serves as a blueprint for other classes. It defines a common interface or set of methods that derived classes must implement.\n",
    "\n",
    "- To create an abstract base class, you can subclass ABC and use the @abstractmethod decorator to mark methods as abstract."
   ]
  },
  {
   "cell_type": "markdown",
   "id": "118d4375",
   "metadata": {},
   "source": [
    "## Q4. How can we achieve data abstraction?"
   ]
  },
  {
   "cell_type": "markdown",
   "id": "503c07d8",
   "metadata": {},
   "source": [
    "Data abstraction is achieved in object-oriented programming through the use of classes and objects. Here are the steps to achieve data abstraction:\n",
    "\n",
    "- Define a class: Start by defining a class that encapsulates the data and methods related to the concept you want to abstract. \n",
    "\n",
    "- Hide implementation details: To achieve data abstraction, you need to hide the internal implementation details of the class from the outside world. \n",
    "\n",
    "- Provide public interfaces: Define public methods (also called accessor methods or getters/setters) that allow external code to interact with the class and access or modify the encapsulated data. \n",
    "\n",
    "- Use the class: Create objects of the class and use the public methods to perform operations on the encapsulated data."
   ]
  },
  {
   "cell_type": "markdown",
   "id": "0b09a8d9",
   "metadata": {},
   "source": [
    "## Q5. Can we create an instance of an abstract class? Explain your answer."
   ]
  },
  {
   "cell_type": "markdown",
   "id": "18a74e4e",
   "metadata": {},
   "source": [
    "No, we cannot create an instance of an abstract class directly. An abstract class is designed to be a blueprint for other classes and is meant to be subclassed. It cannot be instantiated on its own because it typically contains one or more abstract methods that do not have an implementation.\n",
    "\n",
    "An abstract method is a method declared in an abstract class but does not have a body or implementation. It serves as a placeholder, defining a method signature that derived classes must implement.\n",
    "\n",
    "When we try to create an instance of an abstract class, we will encounter a TypeError with a message stating that the abstract class cannot be instantiated."
   ]
  }
 ],
 "metadata": {
  "kernelspec": {
   "display_name": "Python 3 (ipykernel)",
   "language": "python",
   "name": "python3"
  },
  "language_info": {
   "codemirror_mode": {
    "name": "ipython",
    "version": 3
   },
   "file_extension": ".py",
   "mimetype": "text/x-python",
   "name": "python",
   "nbconvert_exporter": "python",
   "pygments_lexer": "ipython3",
   "version": "3.11.2"
  }
 },
 "nbformat": 4,
 "nbformat_minor": 5
}
